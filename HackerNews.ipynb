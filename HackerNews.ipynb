{
  "nbformat": 4,
  "nbformat_minor": 0,
  "metadata": {
    "colab": {
      "name": "HackerNews.ipynb",
      "provenance": [],
      "authorship_tag": "ABX9TyOokeAd56Lp6MnwP3T/4Eep",
      "include_colab_link": true
    },
    "kernelspec": {
      "name": "python3",
      "display_name": "Python 3"
    },
    "language_info": {
      "name": "python"
    }
  },
  "cells": [
    {
      "cell_type": "markdown",
      "metadata": {
        "id": "view-in-github",
        "colab_type": "text"
      },
      "source": [
        "<a href=\"https://colab.research.google.com/github/nehit210/Automation/blob/main/HackerNews.ipynb\" target=\"_parent\"><img src=\"https://colab.research.google.com/assets/colab-badge.svg\" alt=\"Open In Colab\"/></a>"
      ]
    },
    {
      "cell_type": "code",
      "metadata": {
        "colab": {
          "base_uri": "https://localhost:8080/",
          "height": 1000
        },
        "id": "_aHxYT1D7ZK7",
        "outputId": "ba077d03-a785-44d2-87af-b34b9e30e3a6"
      },
      "source": [
        "import requests # http requests\n",
        "\n",
        "from bs4 import BeautifulSoup # web scraping\n",
        "# Send the mail\n",
        "import smtplib\n",
        "# email body\n",
        "from email.mime.multipart import MIMEMultipart\n",
        "from email.mime.text import MIMEText\n",
        "# system date and time manipulation\n",
        "import datetime\n",
        "\n",
        "now = datetime.datetime.now()\n",
        "\n",
        "# email content placeholder\n",
        "\n",
        "content = ''\n",
        "\n",
        "\n",
        "#extracting Hacker News Stories\n",
        "\n",
        "\n",
        "def extract_news(url):\n",
        "    print('Extracting Hacker News Stories...')\n",
        "    cnt = ''\n",
        "    cnt +=('<b>HN Top Stories:</b>\\n'+'<br>'+'-'*50+'<br>')\n",
        "    response = requests.get(url)\n",
        "    content = response.content\n",
        "    soup = BeautifulSoup(content,'html.parser')\n",
        "    for i,tag in enumerate(soup.find_all('td',attrs={'class':'title','valign':''})):\n",
        "        cnt += ((str(i+1)+' :: '+tag.text + \"\\n\" + '<br>') if tag.text!='More' else '')\n",
        "        #print(tag.prettify) #find_all('span',attrs={'class':'sitestr'}))\n",
        "    return(cnt)\n",
        "    \n",
        "cnt = extract_news('https://news.ycombinator.com/')\n",
        "content += cnt\n",
        "content += ('<br>------<br>')\n",
        "content +=('<br><br>End of Message')\n",
        "\n",
        "\n",
        "#lets send the email\n",
        "\n",
        "print('Composing Email...')\n",
        "\n",
        "# update your email details\n",
        "# make sure to update the Google Low App Access settings before\n",
        "\n",
        "SERVER = 'smtp.gmail.com' # \"your smtp server\"\n",
        "PORT = 587 # your port number\n",
        "FROM =  '***' # \"your from email id\"\n",
        "TO = '***' # \"your to email ids\"  # can be a list\n",
        "PASS = '***' # \"your email id's password\"\n",
        "\n",
        "# fp = open(file_name, 'rb')\n",
        "# Create a text/plain message\n",
        "# msg = MIMEText('')\n",
        "msg = MIMEMultipart()\n",
        "\n",
        "# msg.add_header('Content-Disposition', 'attachment', filename='empty.txt')\n",
        "msg['Subject'] = 'Top News Stories HN [Automated Email]' + ' ' + str(now.day) + '-' + str(now.month) + '-' + str(\n",
        "    now.year)\n",
        "msg['From'] = FROM\n",
        "msg['To'] = TO\n",
        "\n",
        "msg.attach(MIMEText(content, 'html'))\n",
        "# fp.close()\n",
        "\n",
        "print('Initiating Server...')\n",
        "\n",
        "server = smtplib.SMTP(SERVER, PORT)\n",
        "#server = smtplib.SMTP_SSL('smtp.gmail.com', 465)\n",
        "server.set_debuglevel(1)\n",
        "server.ehlo()\n",
        "server.starttls()\n",
        "#server.ehlo\n",
        "server.login(FROM, PASS)\n",
        "server.sendmail(FROM, TO, msg.as_string())\n",
        "\n",
        "print('Email Sent...')\n",
        "\n",
        "server.quit()\n"
      ],
      "execution_count": 1,
      "outputs": [
        {
          "output_type": "stream",
          "name": "stdout",
          "text": [
            "Extracting Hacker News Stories...\n",
            "Composing Email...\n",
            "Initiating Server...\n"
          ]
        },
        {
          "output_type": "stream",
          "name": "stderr",
          "text": [
            "send: 'ehlo [172.28.0.2]\\r\\n'\n",
            "reply: b'250-smtp.gmail.com at your service, [35.185.173.191]\\r\\n'\n",
            "reply: b'250-SIZE 35882577\\r\\n'\n",
            "reply: b'250-8BITMIME\\r\\n'\n",
            "reply: b'250-STARTTLS\\r\\n'\n",
            "reply: b'250-ENHANCEDSTATUSCODES\\r\\n'\n",
            "reply: b'250-PIPELINING\\r\\n'\n",
            "reply: b'250-CHUNKING\\r\\n'\n",
            "reply: b'250 SMTPUTF8\\r\\n'\n",
            "reply: retcode (250); Msg: b'smtp.gmail.com at your service, [35.185.173.191]\\nSIZE 35882577\\n8BITMIME\\nSTARTTLS\\nENHANCEDSTATUSCODES\\nPIPELINING\\nCHUNKING\\nSMTPUTF8'\n",
            "send: 'STARTTLS\\r\\n'\n",
            "reply: b'220 2.0.0 Ready to start TLS\\r\\n'\n",
            "reply: retcode (220); Msg: b'2.0.0 Ready to start TLS'\n",
            "send: 'ehlo [172.28.0.2]\\r\\n'\n",
            "reply: b'250-smtp.gmail.com at your service, [35.185.173.191]\\r\\n'\n",
            "reply: b'250-SIZE 35882577\\r\\n'\n",
            "reply: b'250-8BITMIME\\r\\n'\n",
            "reply: b'250-AUTH LOGIN PLAIN XOAUTH2 PLAIN-CLIENTTOKEN OAUTHBEARER XOAUTH\\r\\n'\n",
            "reply: b'250-ENHANCEDSTATUSCODES\\r\\n'\n",
            "reply: b'250-PIPELINING\\r\\n'\n",
            "reply: b'250-CHUNKING\\r\\n'\n",
            "reply: b'250 SMTPUTF8\\r\\n'\n",
            "reply: retcode (250); Msg: b'smtp.gmail.com at your service, [35.185.173.191]\\nSIZE 35882577\\n8BITMIME\\nAUTH LOGIN PLAIN XOAUTH2 PLAIN-CLIENTTOKEN OAUTHBEARER XOAUTH\\nENHANCEDSTATUSCODES\\nPIPELINING\\nCHUNKING\\nSMTPUTF8'\n",
            "send: 'AUTH PLAIN ADIxMG5laGl0QGdtYWlsLmNvbQBha2hpbGJlbmFyYQ==\\r\\n'\n",
            "reply: b'535-5.7.8 Username and Password not accepted. Learn more at\\r\\n'\n",
            "reply: b'535 5.7.8  https://support.google.com/mail/?p=BadCredentials i13sm8850002pgf.77 - gsmtp\\r\\n'\n",
            "reply: retcode (535); Msg: b'5.7.8 Username and Password not accepted. Learn more at\\n5.7.8  https://support.google.com/mail/?p=BadCredentials i13sm8850002pgf.77 - gsmtp'\n",
            "send: 'AUTH LOGIN MjEwbmVoaXRAZ21haWwuY29t\\r\\n'\n",
            "reply: b'334 UGFzc3dvcmQ6\\r\\n'\n",
            "reply: retcode (334); Msg: b'UGFzc3dvcmQ6'\n",
            "send: 'YWtoaWxiZW5hcmE=\\r\\n'\n",
            "reply: b'535-5.7.8 Username and Password not accepted. Learn more at\\r\\n'\n",
            "reply: b'535 5.7.8  https://support.google.com/mail/?p=BadCredentials i13sm8850002pgf.77 - gsmtp\\r\\n'\n",
            "reply: retcode (535); Msg: b'5.7.8 Username and Password not accepted. Learn more at\\n5.7.8  https://support.google.com/mail/?p=BadCredentials i13sm8850002pgf.77 - gsmtp'\n"
          ]
        },
        {
          "output_type": "error",
          "ename": "SMTPAuthenticationError",
          "evalue": "ignored",
          "traceback": [
            "\u001b[0;31m---------------------------------------------------------------------------\u001b[0m",
            "\u001b[0;31mSMTPAuthenticationError\u001b[0m                   Traceback (most recent call last)",
            "\u001b[0;32m<ipython-input-1-37c8015200bd>\u001b[0m in \u001b[0;36m<module>\u001b[0;34m()\u001b[0m\n\u001b[1;32m     73\u001b[0m \u001b[0mserver\u001b[0m\u001b[0;34m.\u001b[0m\u001b[0mstarttls\u001b[0m\u001b[0;34m(\u001b[0m\u001b[0;34m)\u001b[0m\u001b[0;34m\u001b[0m\u001b[0;34m\u001b[0m\u001b[0m\n\u001b[1;32m     74\u001b[0m \u001b[0;31m#server.ehlo\u001b[0m\u001b[0;34m\u001b[0m\u001b[0;34m\u001b[0m\u001b[0;34m\u001b[0m\u001b[0m\n\u001b[0;32m---> 75\u001b[0;31m \u001b[0mserver\u001b[0m\u001b[0;34m.\u001b[0m\u001b[0mlogin\u001b[0m\u001b[0;34m(\u001b[0m\u001b[0mFROM\u001b[0m\u001b[0;34m,\u001b[0m \u001b[0mPASS\u001b[0m\u001b[0;34m)\u001b[0m\u001b[0;34m\u001b[0m\u001b[0;34m\u001b[0m\u001b[0m\n\u001b[0m\u001b[1;32m     76\u001b[0m \u001b[0mserver\u001b[0m\u001b[0;34m.\u001b[0m\u001b[0msendmail\u001b[0m\u001b[0;34m(\u001b[0m\u001b[0mFROM\u001b[0m\u001b[0;34m,\u001b[0m \u001b[0mTO\u001b[0m\u001b[0;34m,\u001b[0m \u001b[0mmsg\u001b[0m\u001b[0;34m.\u001b[0m\u001b[0mas_string\u001b[0m\u001b[0;34m(\u001b[0m\u001b[0;34m)\u001b[0m\u001b[0;34m)\u001b[0m\u001b[0;34m\u001b[0m\u001b[0;34m\u001b[0m\u001b[0m\n\u001b[1;32m     77\u001b[0m \u001b[0;34m\u001b[0m\u001b[0m\n",
            "\u001b[0;32m/usr/lib/python3.7/smtplib.py\u001b[0m in \u001b[0;36mlogin\u001b[0;34m(self, user, password, initial_response_ok)\u001b[0m\n\u001b[1;32m    733\u001b[0m \u001b[0;34m\u001b[0m\u001b[0m\n\u001b[1;32m    734\u001b[0m         \u001b[0;31m# We could not login successfully.  Return result of last attempt.\u001b[0m\u001b[0;34m\u001b[0m\u001b[0;34m\u001b[0m\u001b[0;34m\u001b[0m\u001b[0m\n\u001b[0;32m--> 735\u001b[0;31m         \u001b[0;32mraise\u001b[0m \u001b[0mlast_exception\u001b[0m\u001b[0;34m\u001b[0m\u001b[0;34m\u001b[0m\u001b[0m\n\u001b[0m\u001b[1;32m    736\u001b[0m \u001b[0;34m\u001b[0m\u001b[0m\n\u001b[1;32m    737\u001b[0m     \u001b[0;32mdef\u001b[0m \u001b[0mstarttls\u001b[0m\u001b[0;34m(\u001b[0m\u001b[0mself\u001b[0m\u001b[0;34m,\u001b[0m \u001b[0mkeyfile\u001b[0m\u001b[0;34m=\u001b[0m\u001b[0;32mNone\u001b[0m\u001b[0;34m,\u001b[0m \u001b[0mcertfile\u001b[0m\u001b[0;34m=\u001b[0m\u001b[0;32mNone\u001b[0m\u001b[0;34m,\u001b[0m \u001b[0mcontext\u001b[0m\u001b[0;34m=\u001b[0m\u001b[0;32mNone\u001b[0m\u001b[0;34m)\u001b[0m\u001b[0;34m:\u001b[0m\u001b[0;34m\u001b[0m\u001b[0;34m\u001b[0m\u001b[0m\n",
            "\u001b[0;32m/usr/lib/python3.7/smtplib.py\u001b[0m in \u001b[0;36mlogin\u001b[0;34m(self, user, password, initial_response_ok)\u001b[0m\n\u001b[1;32m    724\u001b[0m                 (code, resp) = self.auth(\n\u001b[1;32m    725\u001b[0m                     \u001b[0mauthmethod\u001b[0m\u001b[0;34m,\u001b[0m \u001b[0mgetattr\u001b[0m\u001b[0;34m(\u001b[0m\u001b[0mself\u001b[0m\u001b[0;34m,\u001b[0m \u001b[0mmethod_name\u001b[0m\u001b[0;34m)\u001b[0m\u001b[0;34m,\u001b[0m\u001b[0;34m\u001b[0m\u001b[0;34m\u001b[0m\u001b[0m\n\u001b[0;32m--> 726\u001b[0;31m                     initial_response_ok=initial_response_ok)\n\u001b[0m\u001b[1;32m    727\u001b[0m                 \u001b[0;31m# 235 == 'Authentication successful'\u001b[0m\u001b[0;34m\u001b[0m\u001b[0;34m\u001b[0m\u001b[0;34m\u001b[0m\u001b[0m\n\u001b[1;32m    728\u001b[0m                 \u001b[0;31m# 503 == 'Error: already authenticated'\u001b[0m\u001b[0;34m\u001b[0m\u001b[0;34m\u001b[0m\u001b[0;34m\u001b[0m\u001b[0m\n",
            "\u001b[0;32m/usr/lib/python3.7/smtplib.py\u001b[0m in \u001b[0;36mauth\u001b[0;34m(self, mechanism, authobject, initial_response_ok)\u001b[0m\n\u001b[1;32m    645\u001b[0m         \u001b[0;32mif\u001b[0m \u001b[0mcode\u001b[0m \u001b[0;32min\u001b[0m \u001b[0;34m(\u001b[0m\u001b[0;36m235\u001b[0m\u001b[0;34m,\u001b[0m \u001b[0;36m503\u001b[0m\u001b[0;34m)\u001b[0m\u001b[0;34m:\u001b[0m\u001b[0;34m\u001b[0m\u001b[0;34m\u001b[0m\u001b[0m\n\u001b[1;32m    646\u001b[0m             \u001b[0;32mreturn\u001b[0m \u001b[0;34m(\u001b[0m\u001b[0mcode\u001b[0m\u001b[0;34m,\u001b[0m \u001b[0mresp\u001b[0m\u001b[0;34m)\u001b[0m\u001b[0;34m\u001b[0m\u001b[0;34m\u001b[0m\u001b[0m\n\u001b[0;32m--> 647\u001b[0;31m         \u001b[0;32mraise\u001b[0m \u001b[0mSMTPAuthenticationError\u001b[0m\u001b[0;34m(\u001b[0m\u001b[0mcode\u001b[0m\u001b[0;34m,\u001b[0m \u001b[0mresp\u001b[0m\u001b[0;34m)\u001b[0m\u001b[0;34m\u001b[0m\u001b[0;34m\u001b[0m\u001b[0m\n\u001b[0m\u001b[1;32m    648\u001b[0m \u001b[0;34m\u001b[0m\u001b[0m\n\u001b[1;32m    649\u001b[0m     \u001b[0;32mdef\u001b[0m \u001b[0mauth_cram_md5\u001b[0m\u001b[0;34m(\u001b[0m\u001b[0mself\u001b[0m\u001b[0;34m,\u001b[0m \u001b[0mchallenge\u001b[0m\u001b[0;34m=\u001b[0m\u001b[0;32mNone\u001b[0m\u001b[0;34m)\u001b[0m\u001b[0;34m:\u001b[0m\u001b[0;34m\u001b[0m\u001b[0;34m\u001b[0m\u001b[0m\n",
            "\u001b[0;31mSMTPAuthenticationError\u001b[0m: (535, b'5.7.8 Username and Password not accepted. Learn more at\\n5.7.8  https://support.google.com/mail/?p=BadCredentials i13sm8850002pgf.77 - gsmtp')"
          ]
        }
      ]
    },
    {
      "cell_type": "code",
      "metadata": {
        "id": "UK6tpqEw9T-R"
      },
      "source": [
        ""
      ],
      "execution_count": null,
      "outputs": []
    }
  ]
}