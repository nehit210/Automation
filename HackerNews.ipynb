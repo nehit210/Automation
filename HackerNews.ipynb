{
  "nbformat": 4,
  "nbformat_minor": 0,
  "metadata": {
    "colab": {
      "name": "HackerNews.ipynb",
      "provenance": [],
      "authorship_tag": "ABX9TyOnarl4lag5MkTdaPVhwtJb",
      "include_colab_link": true
    },
    "kernelspec": {
      "name": "python3",
      "display_name": "Python 3"
    },
    "language_info": {
      "name": "python"
    }
  },
  "cells": [
    {
      "cell_type": "markdown",
      "metadata": {
        "id": "view-in-github",
        "colab_type": "text"
      },
      "source": [
        "<a href=\"https://colab.research.google.com/github/nehit210/Automation/blob/main/HackerNews.ipynb\" target=\"_parent\"><img src=\"https://colab.research.google.com/assets/colab-badge.svg\" alt=\"Open In Colab\"/></a>"
      ]
    },
    {
      "cell_type": "code",
      "metadata": {
        "id": "UK6tpqEw9T-R"
      },
      "source": [
        "import requests # http requests\n",
        "\n",
        "from bs4 import BeautifulSoup # web scraping\n",
        "# Send the mail\n",
        "import smtplib\n",
        "# email body\n",
        "from email.mime.multipart import MIMEMultipart\n",
        "from email.mime.text import MIMEText\n",
        "# system date and time manipulation\n",
        "import datetime\n",
        "\n",
        "now = datetime.datetime.now()\n",
        "\n",
        "# email content placeholder\n",
        "\n",
        "content = ''\n",
        "\n",
        "\n",
        "#extracting Hacker News Stories\n",
        "\n",
        "\n",
        "def extract_news(url):\n",
        "    print('Extracting Hacker News Stories...')\n",
        "    cnt = ''\n",
        "    cnt +=('<b>HN Top Stories:</b>\\n'+'<br>'+'-'*50+'<br>')\n",
        "    response = requests.get(url)\n",
        "    content = response.content\n",
        "    soup = BeautifulSoup(content,'html.parser')\n",
        "    for i,tag in enumerate(soup.find_all('td',attrs={'class':'title','valign':''})):\n",
        "        cnt += ((str(i+1)+' :: '+tag.text + \"\\n\" + '<br>') if tag.text!='More' else '')\n",
        "        #print(tag.prettify) #find_all('span',attrs={'class':'sitestr'}))\n",
        "    return(cnt)\n",
        "    \n",
        "cnt = extract_news('https://news.ycombinator.com/')\n",
        "content += cnt\n",
        "content += ('<br>------<br>')\n",
        "content +=('<br><br>End of Message')\n",
        "\n",
        "\n",
        "#lets send the email\n",
        "\n",
        "print('Composing Email...')\n",
        "\n",
        "# update your email details\n",
        "# make sure to update the Google Low App Access settings before\n",
        "\n",
        "SERVER = 'smtp.gmail.com' # \"your smtp server\"\n",
        "PORT = 587 # your port number\n",
        "FROM =  '***' # \"your from email id\"\n",
        "TO = '***' # \"your to email ids\"  # can be a list\n",
        "PASS = '***' # \"your email id's password\"\n",
        "\n",
        "# fp = open(file_name, 'rb')\n",
        "# Create a text/plain message\n",
        "# msg = MIMEText('')\n",
        "msg = MIMEMultipart()\n",
        "\n",
        "# msg.add_header('Content-Disposition', 'attachment', filename='empty.txt')\n",
        "msg['Subject'] = 'Top News Stories HN [Automated Email]' + ' ' + str(now.day) + '-' + str(now.month) + '-' + str(\n",
        "    now.year)\n",
        "msg['From'] = FROM\n",
        "msg['To'] = TO\n",
        "\n",
        "msg.attach(MIMEText(content, 'html'))\n",
        "# fp.close()\n",
        "\n",
        "print('Initiating Server...')\n",
        "\n",
        "server = smtplib.SMTP(SERVER, PORT)\n",
        "#server = smtplib.SMTP_SSL('smtp.gmail.com', 465)\n",
        "server.set_debuglevel(1)\n",
        "server.ehlo()\n",
        "server.starttls()\n",
        "#server.ehlo\n",
        "server.login(FROM, PASS)\n",
        "server.sendmail(FROM, TO, msg.as_string())\n",
        "\n",
        "print('Email Sent...')\n",
        "\n",
        "server.quit()\n"
      ],
      "execution_count": null,
      "outputs": []
    }
  ]
}